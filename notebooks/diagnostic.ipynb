{
 "cells": [
  {
   "cell_type": "code",
   "execution_count": null,
   "metadata": {
    "vscode": {
     "languageId": "plaintext"
    }
   },
   "outputs": [],
   "source": [
    "import json, matplotlib.pyplot as plt, numpy as np\n",
    "log = json.load(open(\"../results/baseline_log.json\"))\n",
    "steps = np.arange(len(log[\"kappa\"])) * 10\n",
    "for li in range(len(log[\"kappa\"][0])):\n",
    "    plt.plot(steps, [k[li] for k in log[\"kappa\"]], label=f\"Layer {li}\")\n",
    "plt.yscale(\"log\"); plt.xlabel(\"Epoch\"); plt.ylabel(\"κ(J)\"); plt.legend(); plt.show()\n"
   ]
  },
  {
   "cell_type": "code",
   "execution_count": null,
   "metadata": {
    "vscode": {
     "languageId": "plaintext"
    }
   },
   "outputs": [],
   "source": []
  }
 ],
 "metadata": {
  "language_info": {
   "name": "python"
  }
 },
 "nbformat": 4,
 "nbformat_minor": 2
}
